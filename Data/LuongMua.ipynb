{
  "cells": [
    {
      "cell_type": "code",
      "execution_count": 1,
      "metadata": {},
      "outputs": [
        {
          "name": "stdout",
          "output_type": "stream",
          "text": [
            "Requirement already satisfied: pandas in c:\\users\\ez\\anaconda3\\lib\\site-packages (2.0.0)\n",
            "Requirement already satisfied: python-dateutil>=2.8.2 in c:\\users\\ez\\appdata\\roaming\\python\\python39\\site-packages (from pandas) (2.8.2)\n",
            "Requirement already satisfied: pytz>=2020.1 in c:\\users\\ez\\anaconda3\\lib\\site-packages (from pandas) (2023.3)\n",
            "Requirement already satisfied: tzdata>=2022.1 in c:\\users\\ez\\anaconda3\\lib\\site-packages (from pandas) (2023.3)\n",
            "Requirement already satisfied: numpy>=1.20.3 in c:\\users\\ez\\anaconda3\\lib\\site-packages (from pandas) (1.23.5)\n",
            "Requirement already satisfied: six>=1.5 in c:\\users\\ez\\appdata\\roaming\\python\\python39\\site-packages (from python-dateutil>=2.8.2->pandas) (1.16.0)\n"
          ]
        }
      ],
      "source": [
        "!pip install pandas"
      ]
    },
    {
      "cell_type": "code",
      "execution_count": null,
      "metadata": {
        "colab": {
          "base_uri": "https://localhost:8080/"
        },
        "id": "6TjQD1bbCL4c",
        "outputId": "e473dc15-9141-479b-d70a-01e3e21c5cc0"
      },
      "outputs": [
        {
          "name": "stdout",
          "output_type": "stream",
          "text": [
            "   start_date   longitude   latitude  precipitation_1month  \\\n",
            "0  2000-02-18  143.697800 -31.268059             49.118085   \n",
            "1  2000-02-17   47.295670 -15.782624            292.474470   \n",
            "2  2000-04-05   22.415404  46.763746             42.726614   \n",
            "3  2000-07-11  105.063841  11.242567            130.655540   \n",
            "4  2000-08-30  132.057679  43.773883            190.531867   \n",
            "\n",
            "   precipitation_2weeks  precipitation_1week  precipitation_3days  \\\n",
            "0             20.752536            20.752536             7.679764   \n",
            "1            190.112098           132.763813            84.012642   \n",
            "2             30.538156            30.538156            23.372920   \n",
            "3             74.468333            54.308254            21.060406   \n",
            "4             81.418098            81.418098            81.418098   \n",
            "\n",
            "   precipitation_1day  \n",
            "0            0.000000  \n",
            "1           33.605057  \n",
            "2           10.889926  \n",
            "3            0.000000  \n",
            "4            0.000000  \n"
          ]
        }
      ],
      "source": [
        "import pandas as pd\n",
        "import ee\n",
        "from datetime import timedelta\n",
        "\n",
        "# Khởi tạo Google Earth Engine\n",
        "ee.Authenticate()\n",
        "ee.Initialize(project='ee-nguyendangkhoi9517')\n",
        "\n",
        "# Đọc file data.csv\n",
        "df = pd.read_csv(\"GLC03122015_20241006.csv\")\n",
        "\n",
        "# Chuyển đổi định dạng ngày từ \"M/D/YY\" sang \"YYYY-MM-DD\"\n",
        "df['dfo_began'] = pd.to_datetime(df['dfo_began'], format='%m/%d/%y', errors='coerce').dt.strftime('%Y-%m-%d')\n",
        "df['dfo_ended'] = pd.to_datetime(df['dfo_ended'], format='%m/%d/%y', errors='coerce').dt.strftime('%Y-%m-%d')\n",
        "\n",
        "# Kiểm tra dữ liệu sau khi chuyển đổi, thay thế null bằng 'unknown' hoặc loại bỏ các dòng có giá trị null\n",
        "df.dropna(subset=['dfo_began', 'dfo_ended'], inplace=True)\n",
        "\n",
        "# Hàm lấy lượng mưa từ CHIRPS\n",
        "def get_precipitation(lon, lat, start_date, end_date):\n",
        "    start_date = ee.Date(start_date)\n",
        "    end_date = ee.Date(end_date)\n",
        "\n",
        "    chirps = ee.ImageCollection(\"UCSB-CHG/CHIRPS/DAILY\") \\\n",
        "                .filterDate(start_date, end_date) \\\n",
        "                .filterBounds(ee.Geometry.Point([lon, lat]))\n",
        "\n",
        "    precipitation = chirps.sum().reduceRegion(\n",
        "        reducer=ee.Reducer.mean(),\n",
        "        geometry=ee.Geometry.Point([lon, lat]),\n",
        "        scale=5000\n",
        "    ).get(\"precipitation\")\n",
        "\n",
        "    return precipitation.getInfo()\n",
        "\n",
        "# Hàm tính các khoảng thời gian mưa\n",
        "def get_precip_for_period(lon, lat, start_date, period_days):\n",
        "    end_date = pd.to_datetime(start_date) + timedelta(days=period_days)\n",
        "    end_date = end_date.strftime('%Y-%m-%d')\n",
        "    try:\n",
        "        precip = get_precipitation(lon, lat, start_date, end_date)\n",
        "        return precip if precip is not None else 0\n",
        "    except Exception as e:\n",
        "        print(f\"Error fetching data for ({lon}, {lat}) from {start_date} to {end_date}: {e}\")\n",
        "        return None\n",
        "\n",
        "# Tạo danh sách lưu dữ liệu\n",
        "rainfall_data = []\n",
        "\n",
        "# Duyệt qua từng hàng của DataFrame\n",
        "for _, row in df.iterrows():\n",
        "    lon = row['dfo_centroid_x']\n",
        "    lat = row['dfo_centroid_y']\n",
        "    start_date = row['dfo_began']\n",
        "\n",
        "    # Lấy lượng mưa cho các khoảng thời gian khác nhau\n",
        "    precipitation_1month = get_precip_for_period(lon, lat, start_date, 30)  # 1 tháng (30 ngày)\n",
        "    precipitation_2weeks = get_precip_for_period(lon, lat, start_date, 14)  # 2 tuần\n",
        "    precipitation_1week = get_precip_for_period(lon, lat, start_date, 7)    # 1 tuần\n",
        "    precipitation_3days = get_precip_for_period(lon, lat, start_date, 3)    # 3 ngày\n",
        "    precipitation_1day = get_precip_for_period(lon, lat, start_date, 1)     # 1 ngày\n",
        "\n",
        "    rainfall_data.append({\n",
        "        'start_date': start_date,\n",
        "        'longitude': lon,\n",
        "        'latitude': lat,\n",
        "        'precipitation_1month': precipitation_1month,\n",
        "        'precipitation_2weeks': precipitation_2weeks,\n",
        "        'precipitation_1week': precipitation_1week,\n",
        "        'precipitation_3days': precipitation_3days,\n",
        "        'precipitation_1day': precipitation_1day\n",
        "    })\n",
        "\n",
        "# Tạo DataFrame mới từ danh sách\n",
        "rainfall_df = pd.DataFrame(rainfall_data)\n",
        "\n",
        "# Hiển thị DataFrame kết quả\n",
        "print(rainfall_df.head())\n",
        "\n",
        "# Lưu DataFrame mới ra file CSV\n",
        "rainfall_df.to_csv(\"rainfall_data.csv\", index=False)"
      ]
    }
  ],
  "metadata": {
    "accelerator": "GPU",
    "colab": {
      "gpuType": "T4",
      "provenance": []
    },
    "kernelspec": {
      "display_name": "Python 3",
      "name": "python3"
    },
    "language_info": {
      "codemirror_mode": {
        "name": "ipython",
        "version": 3
      },
      "file_extension": ".py",
      "mimetype": "text/x-python",
      "name": "python",
      "nbconvert_exporter": "python",
      "pygments_lexer": "ipython3",
      "version": "3.9.10"
    }
  },
  "nbformat": 4,
  "nbformat_minor": 0
}
